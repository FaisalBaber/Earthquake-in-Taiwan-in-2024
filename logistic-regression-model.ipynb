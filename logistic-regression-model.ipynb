{
 "cells": [
  {
   "cell_type": "markdown",
   "id": "f27e0fd9",
   "metadata": {
    "papermill": {
     "duration": 0.017842,
     "end_time": "2024-06-14T11:05:49.032370",
     "exception": false,
     "start_time": "2024-06-14T11:05:49.014528",
     "status": "completed"
    },
    "tags": []
   },
   "source": [
    "# Logistic Regression Model\n",
    "Earthquake in Taiwan in 2024-04\n",
    "\n"
   ]
  },
  {
   "cell_type": "markdown",
   "id": "2d239a24",
   "metadata": {
    "papermill": {
     "duration": 0.016166,
     "end_time": "2024-06-14T11:05:49.065051",
     "exception": false,
     "start_time": "2024-06-14T11:05:49.048885",
     "status": "completed"
    },
    "tags": []
   },
   "source": [
    "# Importing Libraries\n",
    "\n"
   ]
  },
  {
   "cell_type": "code",
   "execution_count": 1,
   "id": "9b208bb2",
   "metadata": {
    "execution": {
     "iopub.execute_input": "2024-06-14T11:05:49.100964Z",
     "iopub.status.busy": "2024-06-14T11:05:49.100475Z",
     "iopub.status.idle": "2024-06-14T11:05:52.921957Z",
     "shell.execute_reply": "2024-06-14T11:05:52.920723Z"
    },
    "papermill": {
     "duration": 3.842998,
     "end_time": "2024-06-14T11:05:52.924718",
     "exception": false,
     "start_time": "2024-06-14T11:05:49.081720",
     "status": "completed"
    },
    "tags": []
   },
   "outputs": [],
   "source": [
    "import matplotlib.pyplot as plt\n",
    "import numpy as np\n",
    "import pandas as pd\n",
    "import seaborn as sns\n",
    "from category_encoders import OneHotEncoder\n",
    "from category_encoders import OrdinalEncoder\n",
    "from sklearn.tree import DecisionTreeClassifier, plot_tree\n",
    "from sklearn.linear_model import LogisticRegression\n",
    "from sklearn.metrics import accuracy_score\n",
    "from sklearn.model_selection import train_test_split\n",
    "from sklearn.pipeline import Pipeline, make_pipeline\n",
    "from sklearn.utils.validation import check_is_fitted\n"
   ]
  },
  {
   "cell_type": "markdown",
   "id": "7f706780",
   "metadata": {
    "papermill": {
     "duration": 0.016114,
     "end_time": "2024-06-14T11:05:52.957393",
     "exception": false,
     "start_time": "2024-06-14T11:05:52.941279",
     "status": "completed"
    },
    "tags": []
   },
   "source": [
    "# Reading Earthquake in Taiwan in 2024-04 File"
   ]
  },
  {
   "cell_type": "code",
   "execution_count": 2,
   "id": "bcc2971d",
   "metadata": {
    "execution": {
     "iopub.execute_input": "2024-06-14T11:05:52.992912Z",
     "iopub.status.busy": "2024-06-14T11:05:52.992316Z",
     "iopub.status.idle": "2024-06-14T11:05:53.017355Z",
     "shell.execute_reply": "2024-06-14T11:05:53.016121Z"
    },
    "papermill": {
     "duration": 0.045999,
     "end_time": "2024-06-14T11:05:53.020467",
     "exception": false,
     "start_time": "2024-06-14T11:05:52.974468",
     "status": "completed"
    },
    "tags": []
   },
   "outputs": [],
   "source": [
    "df = pd.read_csv(\"/kaggle/input/earthquake-in-japan/taiwan_20240423_query.csv\")"
   ]
  },
  {
   "cell_type": "code",
   "execution_count": 3,
   "id": "acbcde1f",
   "metadata": {
    "execution": {
     "iopub.execute_input": "2024-06-14T11:05:53.056402Z",
     "iopub.status.busy": "2024-06-14T11:05:53.055226Z",
     "iopub.status.idle": "2024-06-14T11:05:53.118604Z",
     "shell.execute_reply": "2024-06-14T11:05:53.117333Z"
    },
    "papermill": {
     "duration": 0.084444,
     "end_time": "2024-06-14T11:05:53.121587",
     "exception": false,
     "start_time": "2024-06-14T11:05:53.037143",
     "status": "completed"
    },
    "tags": []
   },
   "outputs": [
    {
     "data": {
      "text/html": [
       "<div>\n",
       "<style scoped>\n",
       "    .dataframe tbody tr th:only-of-type {\n",
       "        vertical-align: middle;\n",
       "    }\n",
       "\n",
       "    .dataframe tbody tr th {\n",
       "        vertical-align: top;\n",
       "    }\n",
       "\n",
       "    .dataframe thead th {\n",
       "        text-align: right;\n",
       "    }\n",
       "</style>\n",
       "<table border=\"1\" class=\"dataframe\">\n",
       "  <thead>\n",
       "    <tr style=\"text-align: right;\">\n",
       "      <th></th>\n",
       "      <th>time</th>\n",
       "      <th>latitude</th>\n",
       "      <th>longitude</th>\n",
       "      <th>depth</th>\n",
       "      <th>mag</th>\n",
       "      <th>magType</th>\n",
       "      <th>nst</th>\n",
       "      <th>gap</th>\n",
       "      <th>dmin</th>\n",
       "      <th>rms</th>\n",
       "      <th>...</th>\n",
       "      <th>updated</th>\n",
       "      <th>place</th>\n",
       "      <th>type</th>\n",
       "      <th>horizontalError</th>\n",
       "      <th>depthError</th>\n",
       "      <th>magError</th>\n",
       "      <th>magNst</th>\n",
       "      <th>status</th>\n",
       "      <th>locationSource</th>\n",
       "      <th>magSource</th>\n",
       "    </tr>\n",
       "  </thead>\n",
       "  <tbody>\n",
       "    <tr>\n",
       "      <th>0</th>\n",
       "      <td>2024-04-23T05:08:05.896Z</td>\n",
       "      <td>23.7091</td>\n",
       "      <td>121.6223</td>\n",
       "      <td>10.000</td>\n",
       "      <td>4.7</td>\n",
       "      <td>mb</td>\n",
       "      <td>32</td>\n",
       "      <td>89</td>\n",
       "      <td>0.434</td>\n",
       "      <td>1.09</td>\n",
       "      <td>...</td>\n",
       "      <td>2024-04-23T05:42:31.040Z</td>\n",
       "      <td>29 km S of Hualien City, Taiwan</td>\n",
       "      <td>earthquake</td>\n",
       "      <td>2.84</td>\n",
       "      <td>1.903</td>\n",
       "      <td>0.090</td>\n",
       "      <td>37</td>\n",
       "      <td>reviewed</td>\n",
       "      <td>us</td>\n",
       "      <td>us</td>\n",
       "    </tr>\n",
       "    <tr>\n",
       "      <th>1</th>\n",
       "      <td>2024-04-23T02:21:00.705Z</td>\n",
       "      <td>23.8434</td>\n",
       "      <td>121.5903</td>\n",
       "      <td>10.000</td>\n",
       "      <td>5.2</td>\n",
       "      <td>mwr</td>\n",
       "      <td>60</td>\n",
       "      <td>62</td>\n",
       "      <td>0.523</td>\n",
       "      <td>0.73</td>\n",
       "      <td>...</td>\n",
       "      <td>2024-04-23T02:49:32.541Z</td>\n",
       "      <td>14 km S of Hualien City, Taiwan</td>\n",
       "      <td>earthquake</td>\n",
       "      <td>1.95</td>\n",
       "      <td>1.844</td>\n",
       "      <td>0.068</td>\n",
       "      <td>21</td>\n",
       "      <td>reviewed</td>\n",
       "      <td>us</td>\n",
       "      <td>us</td>\n",
       "    </tr>\n",
       "    <tr>\n",
       "      <th>2</th>\n",
       "      <td>2024-04-23T01:45:46.308Z</td>\n",
       "      <td>23.7842</td>\n",
       "      <td>121.5822</td>\n",
       "      <td>10.000</td>\n",
       "      <td>4.9</td>\n",
       "      <td>mww</td>\n",
       "      <td>69</td>\n",
       "      <td>79</td>\n",
       "      <td>0.470</td>\n",
       "      <td>0.87</td>\n",
       "      <td>...</td>\n",
       "      <td>2024-04-23T02:42:44.717Z</td>\n",
       "      <td>21 km S of Hualien City, Taiwan</td>\n",
       "      <td>earthquake</td>\n",
       "      <td>2.80</td>\n",
       "      <td>1.555</td>\n",
       "      <td>0.103</td>\n",
       "      <td>9</td>\n",
       "      <td>reviewed</td>\n",
       "      <td>us</td>\n",
       "      <td>us</td>\n",
       "    </tr>\n",
       "    <tr>\n",
       "      <th>3</th>\n",
       "      <td>2024-04-23T01:22:43.553Z</td>\n",
       "      <td>23.8391</td>\n",
       "      <td>121.5765</td>\n",
       "      <td>10.000</td>\n",
       "      <td>4.7</td>\n",
       "      <td>mb</td>\n",
       "      <td>65</td>\n",
       "      <td>39</td>\n",
       "      <td>0.513</td>\n",
       "      <td>0.53</td>\n",
       "      <td>...</td>\n",
       "      <td>2024-04-23T04:50:51.040Z</td>\n",
       "      <td>15 km S of Hualien City, Taiwan</td>\n",
       "      <td>earthquake</td>\n",
       "      <td>3.03</td>\n",
       "      <td>1.808</td>\n",
       "      <td>0.077</td>\n",
       "      <td>51</td>\n",
       "      <td>reviewed</td>\n",
       "      <td>us</td>\n",
       "      <td>us</td>\n",
       "    </tr>\n",
       "    <tr>\n",
       "      <th>4</th>\n",
       "      <td>2024-04-23T01:19:33.210Z</td>\n",
       "      <td>23.8235</td>\n",
       "      <td>121.5953</td>\n",
       "      <td>12.193</td>\n",
       "      <td>4.6</td>\n",
       "      <td>mb</td>\n",
       "      <td>47</td>\n",
       "      <td>37</td>\n",
       "      <td>0.509</td>\n",
       "      <td>0.60</td>\n",
       "      <td>...</td>\n",
       "      <td>2024-04-23T04:25:02.040Z</td>\n",
       "      <td>17 km S of Hualien City, Taiwan</td>\n",
       "      <td>earthquake</td>\n",
       "      <td>2.67</td>\n",
       "      <td>4.526</td>\n",
       "      <td>0.095</td>\n",
       "      <td>33</td>\n",
       "      <td>reviewed</td>\n",
       "      <td>us</td>\n",
       "      <td>us</td>\n",
       "    </tr>\n",
       "    <tr>\n",
       "      <th>5</th>\n",
       "      <td>2024-04-23T00:11:02.661Z</td>\n",
       "      <td>23.8982</td>\n",
       "      <td>121.5981</td>\n",
       "      <td>13.296</td>\n",
       "      <td>5.2</td>\n",
       "      <td>mb</td>\n",
       "      <td>43</td>\n",
       "      <td>78</td>\n",
       "      <td>0.574</td>\n",
       "      <td>0.65</td>\n",
       "      <td>...</td>\n",
       "      <td>2024-04-23T00:56:39.901Z</td>\n",
       "      <td>8 km S of Hualien City, Taiwan</td>\n",
       "      <td>earthquake</td>\n",
       "      <td>3.10</td>\n",
       "      <td>3.849</td>\n",
       "      <td>0.060</td>\n",
       "      <td>92</td>\n",
       "      <td>reviewed</td>\n",
       "      <td>us</td>\n",
       "      <td>us</td>\n",
       "    </tr>\n",
       "    <tr>\n",
       "      <th>6</th>\n",
       "      <td>2024-04-23T00:04:05.608Z</td>\n",
       "      <td>23.8026</td>\n",
       "      <td>121.6764</td>\n",
       "      <td>13.118</td>\n",
       "      <td>5.8</td>\n",
       "      <td>mww</td>\n",
       "      <td>64</td>\n",
       "      <td>30</td>\n",
       "      <td>0.536</td>\n",
       "      <td>0.96</td>\n",
       "      <td>...</td>\n",
       "      <td>2024-04-23T04:54:31.959Z</td>\n",
       "      <td>20 km SSE of Hualien City, Taiwan</td>\n",
       "      <td>earthquake</td>\n",
       "      <td>3.20</td>\n",
       "      <td>4.606</td>\n",
       "      <td>0.065</td>\n",
       "      <td>23</td>\n",
       "      <td>reviewed</td>\n",
       "      <td>us</td>\n",
       "      <td>us</td>\n",
       "    </tr>\n",
       "    <tr>\n",
       "      <th>7</th>\n",
       "      <td>2024-04-23T00:03:49.290Z</td>\n",
       "      <td>23.6992</td>\n",
       "      <td>121.6391</td>\n",
       "      <td>20.652</td>\n",
       "      <td>4.5</td>\n",
       "      <td>mb</td>\n",
       "      <td>29</td>\n",
       "      <td>86</td>\n",
       "      <td>0.438</td>\n",
       "      <td>0.82</td>\n",
       "      <td>...</td>\n",
       "      <td>2024-04-23T00:25:59.040Z</td>\n",
       "      <td>30 km S of Hualien City, Taiwan</td>\n",
       "      <td>earthquake</td>\n",
       "      <td>2.72</td>\n",
       "      <td>6.048</td>\n",
       "      <td>0.085</td>\n",
       "      <td>41</td>\n",
       "      <td>reviewed</td>\n",
       "      <td>us</td>\n",
       "      <td>us</td>\n",
       "    </tr>\n",
       "    <tr>\n",
       "      <th>8</th>\n",
       "      <td>2024-04-22T23:35:39.486Z</td>\n",
       "      <td>23.8142</td>\n",
       "      <td>121.5956</td>\n",
       "      <td>11.844</td>\n",
       "      <td>4.3</td>\n",
       "      <td>mb</td>\n",
       "      <td>30</td>\n",
       "      <td>86</td>\n",
       "      <td>0.501</td>\n",
       "      <td>0.75</td>\n",
       "      <td>...</td>\n",
       "      <td>2024-04-22T23:48:33.040Z</td>\n",
       "      <td>18 km S of Hualien City, Taiwan</td>\n",
       "      <td>earthquake</td>\n",
       "      <td>2.34</td>\n",
       "      <td>5.028</td>\n",
       "      <td>0.147</td>\n",
       "      <td>13</td>\n",
       "      <td>reviewed</td>\n",
       "      <td>us</td>\n",
       "      <td>us</td>\n",
       "    </tr>\n",
       "    <tr>\n",
       "      <th>9</th>\n",
       "      <td>2024-04-22T23:02:44.117Z</td>\n",
       "      <td>23.7274</td>\n",
       "      <td>121.5503</td>\n",
       "      <td>9.729</td>\n",
       "      <td>4.5</td>\n",
       "      <td>mwr</td>\n",
       "      <td>41</td>\n",
       "      <td>82</td>\n",
       "      <td>0.406</td>\n",
       "      <td>0.58</td>\n",
       "      <td>...</td>\n",
       "      <td>2024-04-22T23:22:01.040Z</td>\n",
       "      <td>28 km SSW of Hualien City, Taiwan</td>\n",
       "      <td>earthquake</td>\n",
       "      <td>2.48</td>\n",
       "      <td>5.410</td>\n",
       "      <td>0.073</td>\n",
       "      <td>18</td>\n",
       "      <td>reviewed</td>\n",
       "      <td>us</td>\n",
       "      <td>us</td>\n",
       "    </tr>\n",
       "    <tr>\n",
       "      <th>10</th>\n",
       "      <td>2024-04-22T22:26:19.996Z</td>\n",
       "      <td>23.7671</td>\n",
       "      <td>121.4697</td>\n",
       "      <td>16.291</td>\n",
       "      <td>4.2</td>\n",
       "      <td>mb</td>\n",
       "      <td>27</td>\n",
       "      <td>84</td>\n",
       "      <td>0.405</td>\n",
       "      <td>0.94</td>\n",
       "      <td>...</td>\n",
       "      <td>2024-04-23T03:20:36.397Z</td>\n",
       "      <td>26 km SSW of Hualien City, Taiwan</td>\n",
       "      <td>earthquake</td>\n",
       "      <td>1.91</td>\n",
       "      <td>4.747</td>\n",
       "      <td>0.153</td>\n",
       "      <td>12</td>\n",
       "      <td>reviewed</td>\n",
       "      <td>us</td>\n",
       "      <td>us</td>\n",
       "    </tr>\n",
       "    <tr>\n",
       "      <th>11</th>\n",
       "      <td>2024-04-22T21:31:38.493Z</td>\n",
       "      <td>23.8080</td>\n",
       "      <td>121.6343</td>\n",
       "      <td>10.621</td>\n",
       "      <td>5.4</td>\n",
       "      <td>mww</td>\n",
       "      <td>65</td>\n",
       "      <td>34</td>\n",
       "      <td>0.516</td>\n",
       "      <td>0.82</td>\n",
       "      <td>...</td>\n",
       "      <td>2024-04-22T23:37:29.938Z</td>\n",
       "      <td>18 km S of Hualien City, Taiwan</td>\n",
       "      <td>earthquake</td>\n",
       "      <td>2.36</td>\n",
       "      <td>4.218</td>\n",
       "      <td>0.083</td>\n",
       "      <td>14</td>\n",
       "      <td>reviewed</td>\n",
       "      <td>us</td>\n",
       "      <td>us</td>\n",
       "    </tr>\n",
       "    <tr>\n",
       "      <th>12</th>\n",
       "      <td>2024-04-22T21:24:31.244Z</td>\n",
       "      <td>23.7236</td>\n",
       "      <td>121.5707</td>\n",
       "      <td>4.716</td>\n",
       "      <td>5.2</td>\n",
       "      <td>mb</td>\n",
       "      <td>56</td>\n",
       "      <td>94</td>\n",
       "      <td>0.414</td>\n",
       "      <td>1.08</td>\n",
       "      <td>...</td>\n",
       "      <td>2024-04-22T22:01:59.040Z</td>\n",
       "      <td>28 km S of Hualien City, Taiwan</td>\n",
       "      <td>earthquake</td>\n",
       "      <td>4.22</td>\n",
       "      <td>4.243</td>\n",
       "      <td>0.057</td>\n",
       "      <td>103</td>\n",
       "      <td>reviewed</td>\n",
       "      <td>us</td>\n",
       "      <td>us</td>\n",
       "    </tr>\n",
       "    <tr>\n",
       "      <th>13</th>\n",
       "      <td>2024-04-22T21:19:36.182Z</td>\n",
       "      <td>23.7536</td>\n",
       "      <td>121.5911</td>\n",
       "      <td>12.232</td>\n",
       "      <td>5.3</td>\n",
       "      <td>mww</td>\n",
       "      <td>75</td>\n",
       "      <td>66</td>\n",
       "      <td>0.449</td>\n",
       "      <td>0.89</td>\n",
       "      <td>...</td>\n",
       "      <td>2024-04-22T21:50:15.040Z</td>\n",
       "      <td>24 km S of Hualien City, Taiwan</td>\n",
       "      <td>earthquake</td>\n",
       "      <td>3.32</td>\n",
       "      <td>4.607</td>\n",
       "      <td>0.071</td>\n",
       "      <td>19</td>\n",
       "      <td>reviewed</td>\n",
       "      <td>us</td>\n",
       "      <td>us</td>\n",
       "    </tr>\n",
       "    <tr>\n",
       "      <th>14</th>\n",
       "      <td>2024-04-22T21:14:46.622Z</td>\n",
       "      <td>23.7313</td>\n",
       "      <td>121.5701</td>\n",
       "      <td>11.744</td>\n",
       "      <td>5.2</td>\n",
       "      <td>mb</td>\n",
       "      <td>74</td>\n",
       "      <td>81</td>\n",
       "      <td>0.420</td>\n",
       "      <td>0.57</td>\n",
       "      <td>...</td>\n",
       "      <td>2024-04-22T21:57:45.040Z</td>\n",
       "      <td>27 km S of Hualien City, Taiwan</td>\n",
       "      <td>earthquake</td>\n",
       "      <td>5.58</td>\n",
       "      <td>4.201</td>\n",
       "      <td>0.040</td>\n",
       "      <td>202</td>\n",
       "      <td>reviewed</td>\n",
       "      <td>us</td>\n",
       "      <td>us</td>\n",
       "    </tr>\n",
       "  </tbody>\n",
       "</table>\n",
       "<p>15 rows × 22 columns</p>\n",
       "</div>"
      ],
      "text/plain": [
       "                        time  latitude  longitude   depth  mag magType  nst  \\\n",
       "0   2024-04-23T05:08:05.896Z   23.7091   121.6223  10.000  4.7      mb   32   \n",
       "1   2024-04-23T02:21:00.705Z   23.8434   121.5903  10.000  5.2     mwr   60   \n",
       "2   2024-04-23T01:45:46.308Z   23.7842   121.5822  10.000  4.9     mww   69   \n",
       "3   2024-04-23T01:22:43.553Z   23.8391   121.5765  10.000  4.7      mb   65   \n",
       "4   2024-04-23T01:19:33.210Z   23.8235   121.5953  12.193  4.6      mb   47   \n",
       "5   2024-04-23T00:11:02.661Z   23.8982   121.5981  13.296  5.2      mb   43   \n",
       "6   2024-04-23T00:04:05.608Z   23.8026   121.6764  13.118  5.8     mww   64   \n",
       "7   2024-04-23T00:03:49.290Z   23.6992   121.6391  20.652  4.5      mb   29   \n",
       "8   2024-04-22T23:35:39.486Z   23.8142   121.5956  11.844  4.3      mb   30   \n",
       "9   2024-04-22T23:02:44.117Z   23.7274   121.5503   9.729  4.5     mwr   41   \n",
       "10  2024-04-22T22:26:19.996Z   23.7671   121.4697  16.291  4.2      mb   27   \n",
       "11  2024-04-22T21:31:38.493Z   23.8080   121.6343  10.621  5.4     mww   65   \n",
       "12  2024-04-22T21:24:31.244Z   23.7236   121.5707   4.716  5.2      mb   56   \n",
       "13  2024-04-22T21:19:36.182Z   23.7536   121.5911  12.232  5.3     mww   75   \n",
       "14  2024-04-22T21:14:46.622Z   23.7313   121.5701  11.744  5.2      mb   74   \n",
       "\n",
       "    gap   dmin   rms  ...                   updated  \\\n",
       "0    89  0.434  1.09  ...  2024-04-23T05:42:31.040Z   \n",
       "1    62  0.523  0.73  ...  2024-04-23T02:49:32.541Z   \n",
       "2    79  0.470  0.87  ...  2024-04-23T02:42:44.717Z   \n",
       "3    39  0.513  0.53  ...  2024-04-23T04:50:51.040Z   \n",
       "4    37  0.509  0.60  ...  2024-04-23T04:25:02.040Z   \n",
       "5    78  0.574  0.65  ...  2024-04-23T00:56:39.901Z   \n",
       "6    30  0.536  0.96  ...  2024-04-23T04:54:31.959Z   \n",
       "7    86  0.438  0.82  ...  2024-04-23T00:25:59.040Z   \n",
       "8    86  0.501  0.75  ...  2024-04-22T23:48:33.040Z   \n",
       "9    82  0.406  0.58  ...  2024-04-22T23:22:01.040Z   \n",
       "10   84  0.405  0.94  ...  2024-04-23T03:20:36.397Z   \n",
       "11   34  0.516  0.82  ...  2024-04-22T23:37:29.938Z   \n",
       "12   94  0.414  1.08  ...  2024-04-22T22:01:59.040Z   \n",
       "13   66  0.449  0.89  ...  2024-04-22T21:50:15.040Z   \n",
       "14   81  0.420  0.57  ...  2024-04-22T21:57:45.040Z   \n",
       "\n",
       "                                place        type horizontalError depthError  \\\n",
       "0     29 km S of Hualien City, Taiwan  earthquake            2.84      1.903   \n",
       "1     14 km S of Hualien City, Taiwan  earthquake            1.95      1.844   \n",
       "2     21 km S of Hualien City, Taiwan  earthquake            2.80      1.555   \n",
       "3     15 km S of Hualien City, Taiwan  earthquake            3.03      1.808   \n",
       "4     17 km S of Hualien City, Taiwan  earthquake            2.67      4.526   \n",
       "5      8 km S of Hualien City, Taiwan  earthquake            3.10      3.849   \n",
       "6   20 km SSE of Hualien City, Taiwan  earthquake            3.20      4.606   \n",
       "7     30 km S of Hualien City, Taiwan  earthquake            2.72      6.048   \n",
       "8     18 km S of Hualien City, Taiwan  earthquake            2.34      5.028   \n",
       "9   28 km SSW of Hualien City, Taiwan  earthquake            2.48      5.410   \n",
       "10  26 km SSW of Hualien City, Taiwan  earthquake            1.91      4.747   \n",
       "11    18 km S of Hualien City, Taiwan  earthquake            2.36      4.218   \n",
       "12    28 km S of Hualien City, Taiwan  earthquake            4.22      4.243   \n",
       "13    24 km S of Hualien City, Taiwan  earthquake            3.32      4.607   \n",
       "14    27 km S of Hualien City, Taiwan  earthquake            5.58      4.201   \n",
       "\n",
       "    magError  magNst    status  locationSource magSource  \n",
       "0      0.090      37  reviewed              us        us  \n",
       "1      0.068      21  reviewed              us        us  \n",
       "2      0.103       9  reviewed              us        us  \n",
       "3      0.077      51  reviewed              us        us  \n",
       "4      0.095      33  reviewed              us        us  \n",
       "5      0.060      92  reviewed              us        us  \n",
       "6      0.065      23  reviewed              us        us  \n",
       "7      0.085      41  reviewed              us        us  \n",
       "8      0.147      13  reviewed              us        us  \n",
       "9      0.073      18  reviewed              us        us  \n",
       "10     0.153      12  reviewed              us        us  \n",
       "11     0.083      14  reviewed              us        us  \n",
       "12     0.057     103  reviewed              us        us  \n",
       "13     0.071      19  reviewed              us        us  \n",
       "14     0.040     202  reviewed              us        us  \n",
       "\n",
       "[15 rows x 22 columns]"
      ]
     },
     "execution_count": 3,
     "metadata": {},
     "output_type": "execute_result"
    }
   ],
   "source": [
    "df.head(15)"
   ]
  },
  {
   "cell_type": "code",
   "execution_count": 4,
   "id": "26e1fd65",
   "metadata": {
    "execution": {
     "iopub.execute_input": "2024-06-14T11:05:53.158464Z",
     "iopub.status.busy": "2024-06-14T11:05:53.158028Z",
     "iopub.status.idle": "2024-06-14T11:05:53.165751Z",
     "shell.execute_reply": "2024-06-14T11:05:53.164405Z"
    },
    "papermill": {
     "duration": 0.029445,
     "end_time": "2024-06-14T11:05:53.168382",
     "exception": false,
     "start_time": "2024-06-14T11:05:53.138937",
     "status": "completed"
    },
    "tags": []
   },
   "outputs": [
    {
     "data": {
      "text/plain": [
       "207"
      ]
     },
     "execution_count": 4,
     "metadata": {},
     "output_type": "execute_result"
    }
   ],
   "source": [
    "len(df)"
   ]
  },
  {
   "cell_type": "markdown",
   "id": "8c101f53",
   "metadata": {
    "papermill": {
     "duration": 0.017789,
     "end_time": "2024-06-14T11:05:53.203718",
     "exception": false,
     "start_time": "2024-06-14T11:05:53.185929",
     "status": "completed"
    },
    "tags": []
   },
   "source": [
    "# Droping columns"
   ]
  },
  {
   "cell_type": "code",
   "execution_count": 5,
   "id": "846ff956",
   "metadata": {
    "execution": {
     "iopub.execute_input": "2024-06-14T11:05:53.240424Z",
     "iopub.status.busy": "2024-06-14T11:05:53.240026Z",
     "iopub.status.idle": "2024-06-14T11:05:53.247261Z",
     "shell.execute_reply": "2024-06-14T11:05:53.246070Z"
    },
    "papermill": {
     "duration": 0.02849,
     "end_time": "2024-06-14T11:05:53.249873",
     "exception": false,
     "start_time": "2024-06-14T11:05:53.221383",
     "status": "completed"
    },
    "tags": []
   },
   "outputs": [],
   "source": [
    "df.drop(columns=[\"gap\", \"rms\", \"net\", \"updated\", \"nst\", \"id\", \"status\", \"magNst\", \"locationSource\", \"magSource\"], inplace=True)\n"
   ]
  },
  {
   "cell_type": "code",
   "execution_count": 6,
   "id": "32ee6eff",
   "metadata": {
    "execution": {
     "iopub.execute_input": "2024-06-14T11:05:53.286366Z",
     "iopub.status.busy": "2024-06-14T11:05:53.285965Z",
     "iopub.status.idle": "2024-06-14T11:05:53.309936Z",
     "shell.execute_reply": "2024-06-14T11:05:53.308198Z"
    },
    "papermill": {
     "duration": 0.045769,
     "end_time": "2024-06-14T11:05:53.312901",
     "exception": false,
     "start_time": "2024-06-14T11:05:53.267132",
     "status": "completed"
    },
    "tags": []
   },
   "outputs": [
    {
     "name": "stdout",
     "output_type": "stream",
     "text": [
      "<class 'pandas.core.frame.DataFrame'>\n",
      "RangeIndex: 207 entries, 0 to 206\n",
      "Data columns (total 12 columns):\n",
      " #   Column           Non-Null Count  Dtype  \n",
      "---  ------           --------------  -----  \n",
      " 0   time             207 non-null    object \n",
      " 1   latitude         207 non-null    float64\n",
      " 2   longitude        207 non-null    float64\n",
      " 3   depth            207 non-null    float64\n",
      " 4   mag              207 non-null    float64\n",
      " 5   magType          207 non-null    object \n",
      " 6   dmin             207 non-null    float64\n",
      " 7   place            207 non-null    object \n",
      " 8   type             207 non-null    object \n",
      " 9   horizontalError  207 non-null    float64\n",
      " 10  depthError       207 non-null    float64\n",
      " 11  magError         207 non-null    float64\n",
      "dtypes: float64(8), object(4)\n",
      "memory usage: 19.5+ KB\n"
     ]
    }
   ],
   "source": [
    "df.info()\n"
   ]
  },
  {
   "cell_type": "code",
   "execution_count": 7,
   "id": "7849c82e",
   "metadata": {
    "execution": {
     "iopub.execute_input": "2024-06-14T11:05:53.349868Z",
     "iopub.status.busy": "2024-06-14T11:05:53.349457Z",
     "iopub.status.idle": "2024-06-14T11:05:53.359347Z",
     "shell.execute_reply": "2024-06-14T11:05:53.357948Z"
    },
    "papermill": {
     "duration": 0.031427,
     "end_time": "2024-06-14T11:05:53.361980",
     "exception": false,
     "start_time": "2024-06-14T11:05:53.330553",
     "status": "completed"
    },
    "tags": []
   },
   "outputs": [
    {
     "data": {
      "text/plain": [
       "0      4\n",
       "1      5\n",
       "2      4\n",
       "3      4\n",
       "4      4\n",
       "      ..\n",
       "202    6\n",
       "203    7\n",
       "204    4\n",
       "205    4\n",
       "206    4\n",
       "Name: mag, Length: 207, dtype: int64"
      ]
     },
     "execution_count": 7,
     "metadata": {},
     "output_type": "execute_result"
    }
   ],
   "source": [
    "df[\"mag\"].astype(int)"
   ]
  },
  {
   "cell_type": "markdown",
   "id": "d3eb962f",
   "metadata": {
    "papermill": {
     "duration": 0.01798,
     "end_time": "2024-06-14T11:05:53.397707",
     "exception": false,
     "start_time": "2024-06-14T11:05:53.379727",
     "status": "completed"
    },
    "tags": []
   },
   "source": [
    "# Create a binary target variable based on earthquake magnitude"
   ]
  },
  {
   "cell_type": "code",
   "execution_count": 8,
   "id": "7a93ee66",
   "metadata": {
    "execution": {
     "iopub.execute_input": "2024-06-14T11:05:53.435698Z",
     "iopub.status.busy": "2024-06-14T11:05:53.435229Z",
     "iopub.status.idle": "2024-06-14T11:05:53.444105Z",
     "shell.execute_reply": "2024-06-14T11:05:53.442446Z"
    },
    "papermill": {
     "duration": 0.030856,
     "end_time": "2024-06-14T11:05:53.446830",
     "exception": false,
     "start_time": "2024-06-14T11:05:53.415974",
     "status": "completed"
    },
    "tags": []
   },
   "outputs": [],
   "source": [
    "#converting the values in the 'mag' column to numeric values.\n",
    "df['mag'] = pd.to_numeric(df['mag'], errors='coerce')\n",
    "\n",
    "df['severe_earthquake'] = (df['mag'] > 4.4).astype(int)\n"
   ]
  },
  {
   "cell_type": "code",
   "execution_count": 9,
   "id": "ef9df183",
   "metadata": {
    "execution": {
     "iopub.execute_input": "2024-06-14T11:05:53.484020Z",
     "iopub.status.busy": "2024-06-14T11:05:53.483642Z",
     "iopub.status.idle": "2024-06-14T11:05:53.493472Z",
     "shell.execute_reply": "2024-06-14T11:05:53.491872Z"
    },
    "papermill": {
     "duration": 0.032559,
     "end_time": "2024-06-14T11:05:53.497010",
     "exception": false,
     "start_time": "2024-06-14T11:05:53.464451",
     "status": "completed"
    },
    "tags": []
   },
   "outputs": [
    {
     "name": "stdout",
     "output_type": "stream",
     "text": [
      "severe_earthquake\n",
      "1    136\n",
      "0     71\n",
      "Name: count, dtype: int64\n"
     ]
    }
   ],
   "source": [
    "print(df[\"severe_earthquake\"].value_counts())"
   ]
  },
  {
   "cell_type": "markdown",
   "id": "a2269994",
   "metadata": {
    "papermill": {
     "duration": 0.017461,
     "end_time": "2024-06-14T11:05:53.534366",
     "exception": false,
     "start_time": "2024-06-14T11:05:53.516905",
     "status": "completed"
    },
    "tags": []
   },
   "source": [
    "# Correlation heatmap \n",
    "**In the heatmap, we can analyze the relation as light Colors (Near 1) represents High positive correlation,dark Colors (Near -1) represents High negative correlation and medium Colors (Around 0) represents Low or no correlation.**"
   ]
  },
  {
   "cell_type": "code",
   "execution_count": 10,
   "id": "ad348d58",
   "metadata": {
    "execution": {
     "iopub.execute_input": "2024-06-14T11:05:53.571961Z",
     "iopub.status.busy": "2024-06-14T11:05:53.571577Z",
     "iopub.status.idle": "2024-06-14T11:05:54.049444Z",
     "shell.execute_reply": "2024-06-14T11:05:54.048165Z"
    },
    "papermill": {
     "duration": 0.499775,
     "end_time": "2024-06-14T11:05:54.052083",
     "exception": false,
     "start_time": "2024-06-14T11:05:53.552308",
     "status": "completed"
    },
    "tags": []
   },
   "outputs": [
    {
     "data": {
      "image/png": "[encoded data removed]",
      "text/plain": [
       "<Figure size 640x480 with 2 Axes>"
      ]
     },
     "metadata": {},
     "output_type": "display_data"
    }
   ],
   "source": [
    "# Create correlation matrix\n",
    "correlation = df.select_dtypes(\"number\").drop(columns=\"severe_earthquake\").corr()\n",
    "# Plot heatmap of `correlation`\n",
    "sns.heatmap(correlation);\n"
   ]
  },
  {
   "cell_type": "markdown",
   "id": "4943ee3a",
   "metadata": {
    "papermill": {
     "duration": 0.019166,
     "end_time": "2024-06-14T11:05:54.089834",
     "exception": false,
     "start_time": "2024-06-14T11:05:54.070668",
     "status": "completed"
    },
    "tags": []
   },
   "source": [
    "# Box Plot of Distribution of variable dim\n",
    "**This box plot helps visualize the central tendency and variability of the \"dmin\" variable for different categories of earthquake severity.\n",
    "The distribution of \"dmin\" is fairly similar for both non-severe and severe earthquakes, with medians and IQRs being close.The presence of outliers in both categories indicates that there can be significant variation in the minimum distance to the epicenter for individual earthquakes, irrespective of their severity.The single severe outlier suggests that while most severe earthquakes have a \"dmin\" within a certain range, there can be exceptions with much larger distances.**"
   ]
  },
  {
   "cell_type": "code",
   "execution_count": 11,
   "id": "aad02b10",
   "metadata": {
    "execution": {
     "iopub.execute_input": "2024-06-14T11:05:54.129075Z",
     "iopub.status.busy": "2024-06-14T11:05:54.128658Z",
     "iopub.status.idle": "2024-06-14T11:05:54.452592Z",
     "shell.execute_reply": "2024-06-14T11:05:54.451332Z"
    },
    "papermill": {
     "duration": 0.346878,
     "end_time": "2024-06-14T11:05:54.455556",
     "exception": false,
     "start_time": "2024-06-14T11:05:54.108678",
     "status": "completed"
    },
    "tags": []
   },
   "outputs": [
    {
     "data": {
      "image/png": "[encoded data removed]",
      "text/plain": [
       "<Figure size 640x480 with 1 Axes>"
      ]
     },
     "metadata": {},
     "output_type": "display_data"
    }
   ],
   "source": [
    "# Create boxplot\n",
    "sns.boxplot(x=\"severe_earthquake\", y=\"dmin\", data = df)\n",
    "# Label axes\n",
    "plt.xlabel(\"severe_earthquake\")\n",
    "plt.ylabel(\"dmin\")\n",
    "plt.title(\"Distribution of dminision\");"
   ]
  },
  {
   "cell_type": "markdown",
   "id": "6b180f64",
   "metadata": {
    "papermill": {
     "duration": 0.019414,
     "end_time": "2024-06-14T11:05:54.494601",
     "exception": false,
     "start_time": "2024-06-14T11:05:54.475187",
     "status": "completed"
    },
    "tags": []
   },
   "source": [
    "# Class Balance\n",
    "**Frequrncy of severe qarthquake and not severe qarthquake.**\n"
   ]
  },
  {
   "cell_type": "code",
   "execution_count": 12,
   "id": "f8129ce4",
   "metadata": {
    "execution": {
     "iopub.execute_input": "2024-06-14T11:05:54.536735Z",
     "iopub.status.busy": "2024-06-14T11:05:54.536302Z",
     "iopub.status.idle": "2024-06-14T11:05:54.852504Z",
     "shell.execute_reply": "2024-06-14T11:05:54.851289Z"
    },
    "papermill": {
     "duration": 0.339726,
     "end_time": "2024-06-14T11:05:54.855204",
     "exception": false,
     "start_time": "2024-06-14T11:05:54.515478",
     "status": "completed"
    },
    "tags": []
   },
   "outputs": [
    {
     "data": {
      "image/png": "[encoded data removed]",
      "text/plain": [
       "<Figure size 640x480 with 1 Axes>"
      ]
     },
     "metadata": {},
     "output_type": "display_data"
    }
   ],
   "source": [
    "df[\"severe_earthquake\"].value_counts(normalize=True).plot(\n",
    "    kind =\"bar\", xlabel=\"Class\", ylabel=\"Frequency\", title=\"Class Balance\" \n",
    "\n",
    ");"
   ]
  },
  {
   "cell_type": "code",
   "execution_count": 13,
   "id": "7fcad0d4",
   "metadata": {
    "execution": {
     "iopub.execute_input": "2024-06-14T11:05:54.896477Z",
     "iopub.status.busy": "2024-06-14T11:05:54.896048Z",
     "iopub.status.idle": "2024-06-14T11:05:54.903662Z",
     "shell.execute_reply": "2024-06-14T11:05:54.902489Z"
    },
    "papermill": {
     "duration": 0.03254,
     "end_time": "2024-06-14T11:05:54.906901",
     "exception": false,
     "start_time": "2024-06-14T11:05:54.874361",
     "status": "completed"
    },
    "tags": []
   },
   "outputs": [
    {
     "name": "stdout",
     "output_type": "stream",
     "text": [
      "0.6570048309178744 0.34299516908212563\n"
     ]
    }
   ],
   "source": [
    "majority_class_prop,minority_class_prop = df[\"severe_earthquake\"].value_counts(normalize=True)\n",
    "print(majority_class_prop,minority_class_prop)"
   ]
  },
  {
   "cell_type": "markdown",
   "id": "d8a505d7",
   "metadata": {
    "papermill": {
     "duration": 0.019552,
     "end_time": "2024-06-14T11:05:54.946211",
     "exception": false,
     "start_time": "2024-06-14T11:05:54.926659",
     "status": "completed"
    },
    "tags": []
   },
   "source": [
    "# Calculating number of unique values in each of those columns."
   ]
  },
  {
   "cell_type": "code",
   "execution_count": 14,
   "id": "d1799b25",
   "metadata": {
    "execution": {
     "iopub.execute_input": "2024-06-14T11:05:55.049689Z",
     "iopub.status.busy": "2024-06-14T11:05:55.049265Z",
     "iopub.status.idle": "2024-06-14T11:05:55.060523Z",
     "shell.execute_reply": "2024-06-14T11:05:55.059336Z"
    },
    "papermill": {
     "duration": 0.097356,
     "end_time": "2024-06-14T11:05:55.063263",
     "exception": false,
     "start_time": "2024-06-14T11:05:54.965907",
     "status": "completed"
    },
    "tags": []
   },
   "outputs": [
    {
     "data": {
      "text/plain": [
       "time       207\n",
       "magType      3\n",
       "place      149\n",
       "type         1\n",
       "dtype: int64"
      ]
     },
     "execution_count": 14,
     "metadata": {},
     "output_type": "execute_result"
    }
   ],
   "source": [
    "df.select_dtypes(\"object\").nunique()"
   ]
  },
  {
   "cell_type": "markdown",
   "id": "53335c95",
   "metadata": {
    "papermill": {
     "duration": 0.020423,
     "end_time": "2024-06-14T11:05:55.103116",
     "exception": false,
     "start_time": "2024-06-14T11:05:55.082693",
     "status": "completed"
    },
    "tags": []
   },
   "source": [
    "# Droping Leacky Colunms"
   ]
  },
  {
   "cell_type": "code",
   "execution_count": 15,
   "id": "2273f33c",
   "metadata": {
    "execution": {
     "iopub.execute_input": "2024-06-14T11:05:55.144020Z",
     "iopub.status.busy": "2024-06-14T11:05:55.143574Z",
     "iopub.status.idle": "2024-06-14T11:05:55.150370Z",
     "shell.execute_reply": "2024-06-14T11:05:55.149141Z"
    },
    "papermill": {
     "duration": 0.030358,
     "end_time": "2024-06-14T11:05:55.153065",
     "exception": false,
     "start_time": "2024-06-14T11:05:55.122707",
     "status": "completed"
    },
    "tags": []
   },
   "outputs": [],
   "source": [
    "df.drop(columns=[\"place\"],inplace=True)\n"
   ]
  },
  {
   "cell_type": "code",
   "execution_count": 16,
   "id": "b9ebe687",
   "metadata": {
    "execution": {
     "iopub.execute_input": "2024-06-14T11:05:55.194993Z",
     "iopub.status.busy": "2024-06-14T11:05:55.194562Z",
     "iopub.status.idle": "2024-06-14T11:05:55.205924Z",
     "shell.execute_reply": "2024-06-14T11:05:55.204588Z"
    },
    "papermill": {
     "duration": 0.035849,
     "end_time": "2024-06-14T11:05:55.209320",
     "exception": false,
     "start_time": "2024-06-14T11:05:55.173471",
     "status": "completed"
    },
    "tags": []
   },
   "outputs": [
    {
     "data": {
      "text/plain": [
       "time       207\n",
       "magType      3\n",
       "type         1\n",
       "dtype: int64"
      ]
     },
     "execution_count": 16,
     "metadata": {},
     "output_type": "execute_result"
    }
   ],
   "source": [
    "df.select_dtypes(\"object\").nunique()"
   ]
  },
  {
   "cell_type": "markdown",
   "id": "d1aca9e8",
   "metadata": {
    "papermill": {
     "duration": 0.019569,
     "end_time": "2024-06-14T11:05:55.248979",
     "exception": false,
     "start_time": "2024-06-14T11:05:55.229410",
     "status": "completed"
    },
    "tags": []
   },
   "source": [
    "# Create your feature matrix X and target vector y."
   ]
  },
  {
   "cell_type": "code",
   "execution_count": 17,
   "id": "6fc66d07",
   "metadata": {
    "execution": {
     "iopub.execute_input": "2024-06-14T11:05:55.290471Z",
     "iopub.status.busy": "2024-06-14T11:05:55.290034Z",
     "iopub.status.idle": "2024-06-14T11:05:55.297628Z",
     "shell.execute_reply": "2024-06-14T11:05:55.296096Z"
    },
    "papermill": {
     "duration": 0.031671,
     "end_time": "2024-06-14T11:05:55.300359",
     "exception": false,
     "start_time": "2024-06-14T11:05:55.268688",
     "status": "completed"
    },
    "tags": []
   },
   "outputs": [],
   "source": [
    "target = \"severe_earthquake\"\n",
    "X = df.drop(columns=target)\n",
    "y = df[target]"
   ]
  },
  {
   "cell_type": "markdown",
   "id": "f9d5305d",
   "metadata": {
    "papermill": {
     "duration": 0.019335,
     "end_time": "2024-06-14T11:05:55.339295",
     "exception": false,
     "start_time": "2024-06-14T11:05:55.319960",
     "status": "completed"
    },
    "tags": []
   },
   "source": [
    "# Dividing data into training and test sets using a randomized train-test split."
   ]
  },
  {
   "cell_type": "code",
   "execution_count": 18,
   "id": "e0623e50",
   "metadata": {
    "execution": {
     "iopub.execute_input": "2024-06-14T11:05:55.382617Z",
     "iopub.status.busy": "2024-06-14T11:05:55.381454Z",
     "iopub.status.idle": "2024-06-14T11:05:55.393905Z",
     "shell.execute_reply": "2024-06-14T11:05:55.392231Z"
    },
    "papermill": {
     "duration": 0.036933,
     "end_time": "2024-06-14T11:05:55.396743",
     "exception": false,
     "start_time": "2024-06-14T11:05:55.359810",
     "status": "completed"
    },
    "tags": []
   },
   "outputs": [
    {
     "name": "stdout",
     "output_type": "stream",
     "text": [
      "X_train shape: (165, 11)\n",
      "y_train shape: (165,)\n",
      "X_test shape: (42, 11)\n",
      "y_test shape: (42,)\n"
     ]
    }
   ],
   "source": [
    "X_train, X_test, y_train, y_test = train_test_split(\n",
    "    X,y, test_size=0.2, random_state= 42\n",
    "\n",
    ")\n",
    "\n",
    "print(\"X_train shape:\", X_train.shape)\n",
    "print(\"y_train shape:\", y_train.shape)\n",
    "print(\"X_test shape:\", X_test.shape)\n",
    "print(\"y_test shape:\", y_test.shape)"
   ]
  },
  {
   "cell_type": "markdown",
   "id": "8e3c5898",
   "metadata": {
    "papermill": {
     "duration": 0.020715,
     "end_time": "2024-06-14T11:05:55.437208",
     "exception": false,
     "start_time": "2024-06-14T11:05:55.416493",
     "status": "completed"
    },
    "tags": []
   },
   "source": [
    "# Calculating baseline accuracy score for the model."
   ]
  },
  {
   "cell_type": "code",
   "execution_count": 19,
   "id": "269ca0b5",
   "metadata": {
    "execution": {
     "iopub.execute_input": "2024-06-14T11:05:55.480044Z",
     "iopub.status.busy": "2024-06-14T11:05:55.479588Z",
     "iopub.status.idle": "2024-06-14T11:05:55.489101Z",
     "shell.execute_reply": "2024-06-14T11:05:55.487647Z"
    },
    "papermill": {
     "duration": 0.0347,
     "end_time": "2024-06-14T11:05:55.491702",
     "exception": false,
     "start_time": "2024-06-14T11:05:55.457002",
     "status": "completed"
    },
    "tags": []
   },
   "outputs": [
    {
     "name": "stdout",
     "output_type": "stream",
     "text": [
      "Baseline Accuracy: 0.64\n"
     ]
    }
   ],
   "source": [
    "acc_baseline = y_train.value_counts(normalize= True).max()\n",
    "print(\"Baseline Accuracy:\", round(acc_baseline, 2))"
   ]
  },
  {
   "cell_type": "markdown",
   "id": "5ede2226",
   "metadata": {
    "papermill": {
     "duration": 0.022134,
     "end_time": "2024-06-14T11:05:55.534215",
     "exception": false,
     "start_time": "2024-06-14T11:05:55.512081",
     "status": "completed"
    },
    "tags": []
   },
   "source": [
    "#  Create a pipeline named model that contains a OneHotEncoder transformer and a LogisticRegression predictor."
   ]
  },
  {
   "cell_type": "code",
   "execution_count": 20,
   "id": "bf4c25b8",
   "metadata": {
    "execution": {
     "iopub.execute_input": "2024-06-14T11:05:55.577885Z",
     "iopub.status.busy": "2024-06-14T11:05:55.576365Z",
     "iopub.status.idle": "2024-06-14T11:05:55.746721Z",
     "shell.execute_reply": "2024-06-14T11:05:55.744996Z"
    },
    "papermill": {
     "duration": 0.196809,
     "end_time": "2024-06-14T11:05:55.751442",
     "exception": false,
     "start_time": "2024-06-14T11:05:55.554633",
     "status": "completed"
    },
    "tags": []
   },
   "outputs": [
    {
     "data": {
      "text/html": [
       "<style>#sk-container-id-1 {color: black;background-color: white;}#sk-container-id-1 pre{padding: 0;}#sk-container-id-1 div.sk-toggleable {background-color: white;}#sk-container-id-1 label.sk-toggleable__label {cursor: pointer;display: block;width: 100%;margin-bottom: 0;padding: 0.3em;box-sizing: border-box;text-align: center;}#sk-container-id-1 label.sk-toggleable__label-arrow:before {content: \"▸\";float: left;margin-right: 0.25em;color: #696969;}#sk-container-id-1 label.sk-toggleable__label-arrow:hover:before {color: black;}#sk-container-id-1 div.sk-estimator:hover label.sk-toggleable__label-arrow:before {color: black;}#sk-container-id-1 div.sk-toggleable__content {max-height: 0;max-width: 0;overflow: hidden;text-align: left;background-color: #f0f8ff;}#sk-container-id-1 div.sk-toggleable__content pre {margin: 0.2em;color: black;border-radius: 0.25em;background-color: #f0f8ff;}#sk-container-id-1 input.sk-toggleable__control:checked~div.sk-toggleable__content {max-height: 200px;max-width: 100%;overflow: auto;}#sk-container-id-1 input.sk-toggleable__control:checked~label.sk-toggleable__label-arrow:before {content: \"▾\";}#sk-container-id-1 div.sk-estimator input.sk-toggleable__control:checked~label.sk-toggleable__label {background-color: #d4ebff;}#sk-container-id-1 div.sk-label input.sk-toggleable__control:checked~label.sk-toggleable__label {background-color: #d4ebff;}#sk-container-id-1 input.sk-hidden--visually {border: 0;clip: rect(1px 1px 1px 1px);clip: rect(1px, 1px, 1px, 1px);height: 1px;margin: -1px;overflow: hidden;padding: 0;position: absolute;width: 1px;}#sk-container-id-1 div.sk-estimator {font-family: monospace;background-color: #f0f8ff;border: 1px dotted black;border-radius: 0.25em;box-sizing: border-box;margin-bottom: 0.5em;}#sk-container-id-1 div.sk-estimator:hover {background-color: #d4ebff;}#sk-container-id-1 div.sk-parallel-item::after {content: \"\";width: 100%;border-bottom: 1px solid gray;flex-grow: 1;}#sk-container-id-1 div.sk-label:hover label.sk-toggleable__label {background-color: #d4ebff;}#sk-container-id-1 div.sk-serial::before {content: \"\";position: absolute;border-left: 1px solid gray;box-sizing: border-box;top: 0;bottom: 0;left: 50%;z-index: 0;}#sk-container-id-1 div.sk-serial {display: flex;flex-direction: column;align-items: center;background-color: white;padding-right: 0.2em;padding-left: 0.2em;position: relative;}#sk-container-id-1 div.sk-item {position: relative;z-index: 1;}#sk-container-id-1 div.sk-parallel {display: flex;align-items: stretch;justify-content: center;background-color: white;position: relative;}#sk-container-id-1 div.sk-item::before, #sk-container-id-1 div.sk-parallel-item::before {content: \"\";position: absolute;border-left: 1px solid gray;box-sizing: border-box;top: 0;bottom: 0;left: 50%;z-index: -1;}#sk-container-id-1 div.sk-parallel-item {display: flex;flex-direction: column;z-index: 1;position: relative;background-color: white;}#sk-container-id-1 div.sk-parallel-item:first-child::after {align-self: flex-end;width: 50%;}#sk-container-id-1 div.sk-parallel-item:last-child::after {align-self: flex-start;width: 50%;}#sk-container-id-1 div.sk-parallel-item:only-child::after {width: 0;}#sk-container-id-1 div.sk-dashed-wrapped {border: 1px dashed gray;margin: 0 0.4em 0.5em 0.4em;box-sizing: border-box;padding-bottom: 0.4em;background-color: white;}#sk-container-id-1 div.sk-label label {font-family: monospace;font-weight: bold;display: inline-block;line-height: 1.2em;}#sk-container-id-1 div.sk-label-container {text-align: center;}#sk-container-id-1 div.sk-container {/* jupyter's `normalize.less` sets `[hidden] { display: none; }` but bootstrap.min.css set `[hidden] { display: none !important; }` so we also need the `!important` here to be able to override the default hidden behavior on the sphinx rendered scikit-learn.org. See: https://github.com/scikit-learn/scikit-learn/issues/21755 */display: inline-block !important;position: relative;}#sk-container-id-1 div.sk-text-repr-fallback {display: none;}</style><div id=\"sk-container-id-1\" class=\"sk-top-container\"><div class=\"sk-text-repr-fallback\"><pre>Pipeline(steps=[(&#x27;onehotencoder&#x27;,\n",
       "                 OneHotEncoder(cols=[&#x27;time&#x27;, &#x27;magType&#x27;, &#x27;type&#x27;],\n",
       "                               use_cat_names=True)),\n",
       "                (&#x27;logisticregression&#x27;, LogisticRegression(max_iter=1000))])</pre><b>In a Jupyter environment, please rerun this cell to show the HTML representation or trust the notebook. <br />On GitHub, the HTML representation is unable to render, please try loading this page with nbviewer.org.</b></div><div class=\"sk-container\" hidden><div class=\"sk-item sk-dashed-wrapped\"><div class=\"sk-label-container\"><div class=\"sk-label sk-toggleable\"><input class=\"sk-toggleable__control sk-hidden--visually\" id=\"sk-estimator-id-1\" type=\"checkbox\" ><label for=\"sk-estimator-id-1\" class=\"sk-toggleable__label sk-toggleable__label-arrow\">Pipeline</label><div class=\"sk-toggleable__content\"><pre>Pipeline(steps=[(&#x27;onehotencoder&#x27;,\n",
       "                 OneHotEncoder(cols=[&#x27;time&#x27;, &#x27;magType&#x27;, &#x27;type&#x27;],\n",
       "                               use_cat_names=True)),\n",
       "                (&#x27;logisticregression&#x27;, LogisticRegression(max_iter=1000))])</pre></div></div></div><div class=\"sk-serial\"><div class=\"sk-item\"><div class=\"sk-estimator sk-toggleable\"><input class=\"sk-toggleable__control sk-hidden--visually\" id=\"sk-estimator-id-2\" type=\"checkbox\" ><label for=\"sk-estimator-id-2\" class=\"sk-toggleable__label sk-toggleable__label-arrow\">OneHotEncoder</label><div class=\"sk-toggleable__content\"><pre>OneHotEncoder(cols=[&#x27;time&#x27;, &#x27;magType&#x27;, &#x27;type&#x27;], use_cat_names=True)</pre></div></div></div><div class=\"sk-item\"><div class=\"sk-estimator sk-toggleable\"><input class=\"sk-toggleable__control sk-hidden--visually\" id=\"sk-estimator-id-3\" type=\"checkbox\" ><label for=\"sk-estimator-id-3\" class=\"sk-toggleable__label sk-toggleable__label-arrow\">LogisticRegression</label><div class=\"sk-toggleable__content\"><pre>LogisticRegression(max_iter=1000)</pre></div></div></div></div></div></div></div>"
      ],
      "text/plain": [
       "Pipeline(steps=[('onehotencoder',\n",
       "                 OneHotEncoder(cols=['time', 'magType', 'type'],\n",
       "                               use_cat_names=True)),\n",
       "                ('logisticregression', LogisticRegression(max_iter=1000))])"
      ]
     },
     "execution_count": 20,
     "metadata": {},
     "output_type": "execute_result"
    }
   ],
   "source": [
    "model = make_pipeline(\n",
    "    OneHotEncoder( use_cat_names= True),\n",
    "    LogisticRegression(max_iter=1000)\n",
    ")\n",
    "# Fit model to training data\n",
    "model.fit(X_train, y_train)\n"
   ]
  },
  {
   "cell_type": "markdown",
   "id": "d49fce13",
   "metadata": {
    "papermill": {
     "duration": 0.045056,
     "end_time": "2024-06-14T11:05:55.841847",
     "exception": false,
     "start_time": "2024-06-14T11:05:55.796791",
     "status": "completed"
    },
    "tags": []
   },
   "source": [
    "# Calculate the training and test accuracy scores for the model."
   ]
  },
  {
   "cell_type": "code",
   "execution_count": 21,
   "id": "ac63304d",
   "metadata": {
    "execution": {
     "iopub.execute_input": "2024-06-14T11:05:55.887720Z",
     "iopub.status.busy": "2024-06-14T11:05:55.887141Z",
     "iopub.status.idle": "2024-06-14T11:05:55.959990Z",
     "shell.execute_reply": "2024-06-14T11:05:55.957444Z"
    },
    "papermill": {
     "duration": 0.099695,
     "end_time": "2024-06-14T11:05:55.964579",
     "exception": false,
     "start_time": "2024-06-14T11:05:55.864884",
     "status": "completed"
    },
    "tags": []
   },
   "outputs": [
    {
     "name": "stdout",
     "output_type": "stream",
     "text": [
      "Training Accuracy: 0.99\n",
      "Test Accuracy: 0.95\n"
     ]
    }
   ],
   "source": [
    "acc_train = accuracy_score(y_train, model.predict(X_train))\n",
    "acc_test = model.score(X_test, y_test)\n",
    "\n",
    "print(\"Training Accuracy:\", round(acc_train, 2))\n",
    "print(\"Test Accuracy:\", round(acc_test, 2))"
   ]
  },
  {
   "cell_type": "code",
   "execution_count": 22,
   "id": "65b34ef5",
   "metadata": {
    "execution": {
     "iopub.execute_input": "2024-06-14T11:05:56.043094Z",
     "iopub.status.busy": "2024-06-14T11:05:56.042706Z",
     "iopub.status.idle": "2024-06-14T11:05:56.048101Z",
     "shell.execute_reply": "2024-06-14T11:05:56.046946Z"
    },
    "papermill": {
     "duration": 0.041263,
     "end_time": "2024-06-14T11:05:56.050466",
     "exception": false,
     "start_time": "2024-06-14T11:05:56.009203",
     "status": "completed"
    },
    "tags": []
   },
   "outputs": [],
   "source": [
    "features = model.named_steps[\"onehotencoder\"].get_feature_names_out()\n",
    "importances = model.named_steps[\"logisticregression\"].coef_[0]"
   ]
  },
  {
   "cell_type": "code",
   "execution_count": 23,
   "id": "0ad881b4",
   "metadata": {
    "execution": {
     "iopub.execute_input": "2024-06-14T11:05:56.093265Z",
     "iopub.status.busy": "2024-06-14T11:05:56.092446Z",
     "iopub.status.idle": "2024-06-14T11:05:56.098956Z",
     "shell.execute_reply": "2024-06-14T11:05:56.097766Z"
    },
    "papermill": {
     "duration": 0.03066,
     "end_time": "2024-06-14T11:05:56.101390",
     "exception": false,
     "start_time": "2024-06-14T11:05:56.070730",
     "status": "completed"
    },
    "tags": []
   },
   "outputs": [],
   "source": [
    "feat_imp = pd.Series(np.exp(importances), index=features).sort_values()"
   ]
  },
  {
   "cell_type": "markdown",
   "id": "cf662c27",
   "metadata": {
    "papermill": {
     "duration": 0.020388,
     "end_time": "2024-06-14T11:05:56.142009",
     "exception": false,
     "start_time": "2024-06-14T11:05:56.121621",
     "status": "completed"
    },
    "tags": []
   },
   "source": [
    "# Create a pandas Series named odds_ratios, where the index is features and the values are exponential of the importances"
   ]
  },
  {
   "cell_type": "markdown",
   "id": "cc7b5f40",
   "metadata": {
    "papermill": {
     "duration": 0.019989,
     "end_time": "2024-06-14T11:05:56.182919",
     "exception": false,
     "start_time": "2024-06-14T11:05:56.162930",
     "status": "completed"
    },
    "tags": []
   },
   "source": []
  },
  {
   "cell_type": "code",
   "execution_count": 24,
   "id": "5c6dbbeb",
   "metadata": {
    "execution": {
     "iopub.execute_input": "2024-06-14T11:05:56.227917Z",
     "iopub.status.busy": "2024-06-14T11:05:56.227524Z",
     "iopub.status.idle": "2024-06-14T11:05:56.239650Z",
     "shell.execute_reply": "2024-06-14T11:05:56.237860Z"
    },
    "papermill": {
     "duration": 0.038636,
     "end_time": "2024-06-14T11:05:56.243113",
     "exception": false,
     "start_time": "2024-06-14T11:05:56.204477",
     "status": "completed"
    },
    "tags": []
   },
   "outputs": [
    {
     "data": {
      "text/plain": [
       "time_2024-04-05T16:22:28.272Z    0.585248\n",
       "magType_mwr                      0.603526\n",
       "time_2024-04-05T10:08:49.507Z    0.608914\n",
       "time_2024-04-22T23:35:39.486Z    0.621685\n",
       "time_2024-04-20T00:35:11.295Z    0.623511\n",
       "dtype: float64"
      ]
     },
     "execution_count": 24,
     "metadata": {},
     "output_type": "execute_result"
    }
   ],
   "source": [
    "#Interpreting odds ratios in logistic regression entails understanding how predictor\n",
    "#variables influence the likelihood of the outcome. A ratio greater than 1 indicates a \n",
    "#positive association, implying higher odds of the outcome, while a ratio less than 1 \n",
    "#signifies a negative association, suggesting lower odds.\n",
    "odds_ratios = pd.Series(np.exp(importances), index=features).sort_values()\n",
    "odds_ratios.head()"
   ]
  },
  {
   "cell_type": "markdown",
   "id": "55ce62fe",
   "metadata": {
    "papermill": {
     "duration": 0.020282,
     "end_time": "2024-06-14T11:05:56.284420",
     "exception": false,
     "start_time": "2024-06-14T11:05:56.264138",
     "status": "completed"
    },
    "tags": []
   },
   "source": [
    "# Horizontal bar chart, five largest coefficients"
   ]
  },
  {
   "cell_type": "code",
   "execution_count": 25,
   "id": "85078377",
   "metadata": {
    "execution": {
     "iopub.execute_input": "2024-06-14T11:05:56.328654Z",
     "iopub.status.busy": "2024-06-14T11:05:56.328233Z",
     "iopub.status.idle": "2024-06-14T11:05:56.569321Z",
     "shell.execute_reply": "2024-06-14T11:05:56.568047Z"
    },
    "papermill": {
     "duration": 0.266101,
     "end_time": "2024-06-14T11:05:56.572040",
     "exception": false,
     "start_time": "2024-06-14T11:05:56.305939",
     "status": "completed"
    },
    "tags": []
   },
   "outputs": [
    {
     "data": {
      "image/png": "[encoded data removed]",
      "text/plain": [
       "<Figure size 640x480 with 1 Axes>"
      ]
     },
     "metadata": {},
     "output_type": "display_data"
    }
   ],
   "source": [
    "odds_ratios.tail().plot(kind  = \"barh\")\n",
    "plt.xlabel(\"Odds Ratio\");"
   ]
  },
  {
   "cell_type": "markdown",
   "id": "1e8373e7",
   "metadata": {
    "papermill": {
     "duration": 0.022773,
     "end_time": "2024-06-14T11:05:56.616399",
     "exception": false,
     "start_time": "2024-06-14T11:05:56.593626",
     "status": "completed"
    },
    "tags": []
   },
   "source": [
    "# Create a horizontal bar chart with the five smallest coefficients"
   ]
  },
  {
   "cell_type": "code",
   "execution_count": 26,
   "id": "7dc85ec5",
   "metadata": {
    "execution": {
     "iopub.execute_input": "2024-06-14T11:05:56.661551Z",
     "iopub.status.busy": "2024-06-14T11:05:56.661101Z",
     "iopub.status.idle": "2024-06-14T11:05:56.890895Z",
     "shell.execute_reply": "2024-06-14T11:05:56.889663Z"
    },
    "papermill": {
     "duration": 0.255006,
     "end_time": "2024-06-14T11:05:56.893489",
     "exception": false,
     "start_time": "2024-06-14T11:05:56.638483",
     "status": "completed"
    },
    "tags": []
   },
   "outputs": [
    {
     "data": {
      "image/png": "[encoded data removed]",
      "text/plain": [
       "<Figure size 640x480 with 1 Axes>"
      ]
     },
     "metadata": {},
     "output_type": "display_data"
    }
   ],
   "source": [
    "odds_ratios.head().plot(kind  = \"barh\")\n",
    "plt.xlabel(\"Odds Ratio\");"
   ]
  },
  {
   "cell_type": "code",
   "execution_count": 27,
   "id": "95079fa4",
   "metadata": {
    "execution": {
     "iopub.execute_input": "2024-06-14T11:05:56.939227Z",
     "iopub.status.busy": "2024-06-14T11:05:56.938798Z",
     "iopub.status.idle": "2024-06-14T11:05:56.964540Z",
     "shell.execute_reply": "2024-06-14T11:05:56.962654Z"
    },
    "papermill": {
     "duration": 0.05429,
     "end_time": "2024-06-14T11:05:56.969254",
     "exception": false,
     "start_time": "2024-06-14T11:05:56.914964",
     "status": "completed"
    },
    "tags": []
   },
   "outputs": [],
   "source": [
    "y_pred = model.predict(X_train)\n",
    "for i, (actual, predicted) in enumerate(zip(y_test, y_pred), 1):\n",
    "    if i % 1000 == 0:\n",
    "        print(f\"Iteration: {i}  |  Actual Magnitude: {actual:.2f}  |  Predicted Magnitude: {predicted:.2f}\")"
   ]
  },
  {
   "cell_type": "code",
   "execution_count": 28,
   "id": "79e4cdf8",
   "metadata": {
    "execution": {
     "iopub.execute_input": "2024-06-14T11:05:57.068147Z",
     "iopub.status.busy": "2024-06-14T11:05:57.067335Z",
     "iopub.status.idle": "2024-06-14T11:05:57.076918Z",
     "shell.execute_reply": "2024-06-14T11:05:57.075342Z"
    },
    "papermill": {
     "duration": 0.065054,
     "end_time": "2024-06-14T11:05:57.081083",
     "exception": false,
     "start_time": "2024-06-14T11:05:57.016029",
     "status": "completed"
    },
    "tags": []
   },
   "outputs": [],
   "source": [
    "for i, (actual, predicted) in enumerate(zip(y_test, y_pred), 1):\n",
    "    if i % 1000 == 0:\n",
    "        print(f\"Iteration: {i}  |  Actual Magnitude: {actual:.2f}  |  Predicted Magnitude: {predicted:.2f}\")"
   ]
  },
  {
   "cell_type": "markdown",
   "id": "c8c6bfdd",
   "metadata": {
    "papermill": {
     "duration": 0.021417,
     "end_time": "2024-06-14T11:05:57.124807",
     "exception": false,
     "start_time": "2024-06-14T11:05:57.103390",
     "status": "completed"
    },
    "tags": []
   },
   "source": [
    "# DECISION TREE MODEL"
   ]
  },
  {
   "cell_type": "code",
   "execution_count": 29,
   "id": "1cbe4a6b",
   "metadata": {
    "execution": {
     "iopub.execute_input": "2024-06-14T11:05:57.169749Z",
     "iopub.status.busy": "2024-06-14T11:05:57.169328Z",
     "iopub.status.idle": "2024-06-14T11:05:57.177749Z",
     "shell.execute_reply": "2024-06-14T11:05:57.176531Z"
    },
    "papermill": {
     "duration": 0.034575,
     "end_time": "2024-06-14T11:05:57.180974",
     "exception": false,
     "start_time": "2024-06-14T11:05:57.146399",
     "status": "completed"
    },
    "tags": []
   },
   "outputs": [],
   "source": [
    "X_train, X_test, y_train, y_test = train_test_split(\n",
    "    X,y, test_size=0.2, random_state= 42\n",
    ")"
   ]
  },
  {
   "cell_type": "code",
   "execution_count": 30,
   "id": "dab1ffb3",
   "metadata": {
    "execution": {
     "iopub.execute_input": "2024-06-14T11:05:57.226812Z",
     "iopub.status.busy": "2024-06-14T11:05:57.226397Z",
     "iopub.status.idle": "2024-06-14T11:05:57.235324Z",
     "shell.execute_reply": "2024-06-14T11:05:57.233856Z"
    },
    "papermill": {
     "duration": 0.034798,
     "end_time": "2024-06-14T11:05:57.238151",
     "exception": false,
     "start_time": "2024-06-14T11:05:57.203353",
     "status": "completed"
    },
    "tags": []
   },
   "outputs": [],
   "source": [
    "X_train, X_val, y_train, y_val =train_test_split(\n",
    " X_train,y_train, test_size=0.2, random_state= 42\n",
    ")"
   ]
  },
  {
   "cell_type": "code",
   "execution_count": 31,
   "id": "517aacbb",
   "metadata": {
    "execution": {
     "iopub.execute_input": "2024-06-14T11:05:57.285074Z",
     "iopub.status.busy": "2024-06-14T11:05:57.283778Z",
     "iopub.status.idle": "2024-06-14T11:05:57.458877Z",
     "shell.execute_reply": "2024-06-14T11:05:57.457572Z"
    },
    "papermill": {
     "duration": 0.201202,
     "end_time": "2024-06-14T11:05:57.461582",
     "exception": false,
     "start_time": "2024-06-14T11:05:57.260380",
     "status": "completed"
    },
    "tags": []
   },
   "outputs": [
    {
     "data": {
      "text/html": [
       "<style>#sk-container-id-2 {color: black;background-color: white;}#sk-container-id-2 pre{padding: 0;}#sk-container-id-2 div.sk-toggleable {background-color: white;}#sk-container-id-2 label.sk-toggleable__label {cursor: pointer;display: block;width: 100%;margin-bottom: 0;padding: 0.3em;box-sizing: border-box;text-align: center;}#sk-container-id-2 label.sk-toggleable__label-arrow:before {content: \"▸\";float: left;margin-right: 0.25em;color: #696969;}#sk-container-id-2 label.sk-toggleable__label-arrow:hover:before {color: black;}#sk-container-id-2 div.sk-estimator:hover label.sk-toggleable__label-arrow:before {color: black;}#sk-container-id-2 div.sk-toggleable__content {max-height: 0;max-width: 0;overflow: hidden;text-align: left;background-color: #f0f8ff;}#sk-container-id-2 div.sk-toggleable__content pre {margin: 0.2em;color: black;border-radius: 0.25em;background-color: #f0f8ff;}#sk-container-id-2 input.sk-toggleable__control:checked~div.sk-toggleable__content {max-height: 200px;max-width: 100%;overflow: auto;}#sk-container-id-2 input.sk-toggleable__control:checked~label.sk-toggleable__label-arrow:before {content: \"▾\";}#sk-container-id-2 div.sk-estimator input.sk-toggleable__control:checked~label.sk-toggleable__label {background-color: #d4ebff;}#sk-container-id-2 div.sk-label input.sk-toggleable__control:checked~label.sk-toggleable__label {background-color: #d4ebff;}#sk-container-id-2 input.sk-hidden--visually {border: 0;clip: rect(1px 1px 1px 1px);clip: rect(1px, 1px, 1px, 1px);height: 1px;margin: -1px;overflow: hidden;padding: 0;position: absolute;width: 1px;}#sk-container-id-2 div.sk-estimator {font-family: monospace;background-color: #f0f8ff;border: 1px dotted black;border-radius: 0.25em;box-sizing: border-box;margin-bottom: 0.5em;}#sk-container-id-2 div.sk-estimator:hover {background-color: #d4ebff;}#sk-container-id-2 div.sk-parallel-item::after {content: \"\";width: 100%;border-bottom: 1px solid gray;flex-grow: 1;}#sk-container-id-2 div.sk-label:hover label.sk-toggleable__label {background-color: #d4ebff;}#sk-container-id-2 div.sk-serial::before {content: \"\";position: absolute;border-left: 1px solid gray;box-sizing: border-box;top: 0;bottom: 0;left: 50%;z-index: 0;}#sk-container-id-2 div.sk-serial {display: flex;flex-direction: column;align-items: center;background-color: white;padding-right: 0.2em;padding-left: 0.2em;position: relative;}#sk-container-id-2 div.sk-item {position: relative;z-index: 1;}#sk-container-id-2 div.sk-parallel {display: flex;align-items: stretch;justify-content: center;background-color: white;position: relative;}#sk-container-id-2 div.sk-item::before, #sk-container-id-2 div.sk-parallel-item::before {content: \"\";position: absolute;border-left: 1px solid gray;box-sizing: border-box;top: 0;bottom: 0;left: 50%;z-index: -1;}#sk-container-id-2 div.sk-parallel-item {display: flex;flex-direction: column;z-index: 1;position: relative;background-color: white;}#sk-container-id-2 div.sk-parallel-item:first-child::after {align-self: flex-end;width: 50%;}#sk-container-id-2 div.sk-parallel-item:last-child::after {align-self: flex-start;width: 50%;}#sk-container-id-2 div.sk-parallel-item:only-child::after {width: 0;}#sk-container-id-2 div.sk-dashed-wrapped {border: 1px dashed gray;margin: 0 0.4em 0.5em 0.4em;box-sizing: border-box;padding-bottom: 0.4em;background-color: white;}#sk-container-id-2 div.sk-label label {font-family: monospace;font-weight: bold;display: inline-block;line-height: 1.2em;}#sk-container-id-2 div.sk-label-container {text-align: center;}#sk-container-id-2 div.sk-container {/* jupyter's `normalize.less` sets `[hidden] { display: none; }` but bootstrap.min.css set `[hidden] { display: none !important; }` so we also need the `!important` here to be able to override the default hidden behavior on the sphinx rendered scikit-learn.org. See: https://github.com/scikit-learn/scikit-learn/issues/21755 */display: inline-block !important;position: relative;}#sk-container-id-2 div.sk-text-repr-fallback {display: none;}</style><div id=\"sk-container-id-2\" class=\"sk-top-container\"><div class=\"sk-text-repr-fallback\"><pre>Pipeline(steps=[(&#x27;ordinalencoder&#x27;,\n",
       "                 OrdinalEncoder(cols=[&#x27;time&#x27;, &#x27;magType&#x27;, &#x27;type&#x27;],\n",
       "                                mapping=[{&#x27;col&#x27;: &#x27;time&#x27;,\n",
       "                                          &#x27;data_type&#x27;: dtype(&#x27;O&#x27;),\n",
       "                                          &#x27;mapping&#x27;: 2024-04-09T01:33:12.926Z      1\n",
       "2024-04-08T18:02:37.030Z      2\n",
       "2024-04-03T01:53:57.440Z      3\n",
       "2024-04-06T13:17:52.876Z      4\n",
       "2024-04-03T21:56:11.907Z      5\n",
       "                           ... \n",
       "2024-04-03T01:07:17.114Z    129\n",
       "2024-04-03T01:39:46.326Z    130\n",
       "2024-04-06T06:02:19.022Z    131\n",
       "2024-04-17T09:17:10.725Z    132\n",
       "NaN                          -2\n",
       "Length: 133, dtype: int64},\n",
       "                                         {&#x27;col&#x27;: &#x27;magType&#x27;,\n",
       "                                          &#x27;data_type&#x27;: dtype(&#x27;O&#x27;),\n",
       "                                          &#x27;mapping&#x27;: mb     1\n",
       "mwr    2\n",
       "mww    3\n",
       "NaN   -2\n",
       "dtype: int64},\n",
       "                                         {&#x27;col&#x27;: &#x27;type&#x27;,\n",
       "                                          &#x27;data_type&#x27;: dtype(&#x27;O&#x27;),\n",
       "                                          &#x27;mapping&#x27;: earthquake    1\n",
       "NaN          -2\n",
       "dtype: int64}])),\n",
       "                (&#x27;decisiontreeclassifier&#x27;,\n",
       "                 DecisionTreeClassifier(max_depth=6, random_state=42))])</pre><b>In a Jupyter environment, please rerun this cell to show the HTML representation or trust the notebook. <br />On GitHub, the HTML representation is unable to render, please try loading this page with nbviewer.org.</b></div><div class=\"sk-container\" hidden><div class=\"sk-item sk-dashed-wrapped\"><div class=\"sk-label-container\"><div class=\"sk-label sk-toggleable\"><input class=\"sk-toggleable__control sk-hidden--visually\" id=\"sk-estimator-id-4\" type=\"checkbox\" ><label for=\"sk-estimator-id-4\" class=\"sk-toggleable__label sk-toggleable__label-arrow\">Pipeline</label><div class=\"sk-toggleable__content\"><pre>Pipeline(steps=[(&#x27;ordinalencoder&#x27;,\n",
       "                 OrdinalEncoder(cols=[&#x27;time&#x27;, &#x27;magType&#x27;, &#x27;type&#x27;],\n",
       "                                mapping=[{&#x27;col&#x27;: &#x27;time&#x27;,\n",
       "                                          &#x27;data_type&#x27;: dtype(&#x27;O&#x27;),\n",
       "                                          &#x27;mapping&#x27;: 2024-04-09T01:33:12.926Z      1\n",
       "2024-04-08T18:02:37.030Z      2\n",
       "2024-04-03T01:53:57.440Z      3\n",
       "2024-04-06T13:17:52.876Z      4\n",
       "2024-04-03T21:56:11.907Z      5\n",
       "                           ... \n",
       "2024-04-03T01:07:17.114Z    129\n",
       "2024-04-03T01:39:46.326Z    130\n",
       "2024-04-06T06:02:19.022Z    131\n",
       "2024-04-17T09:17:10.725Z    132\n",
       "NaN                          -2\n",
       "Length: 133, dtype: int64},\n",
       "                                         {&#x27;col&#x27;: &#x27;magType&#x27;,\n",
       "                                          &#x27;data_type&#x27;: dtype(&#x27;O&#x27;),\n",
       "                                          &#x27;mapping&#x27;: mb     1\n",
       "mwr    2\n",
       "mww    3\n",
       "NaN   -2\n",
       "dtype: int64},\n",
       "                                         {&#x27;col&#x27;: &#x27;type&#x27;,\n",
       "                                          &#x27;data_type&#x27;: dtype(&#x27;O&#x27;),\n",
       "                                          &#x27;mapping&#x27;: earthquake    1\n",
       "NaN          -2\n",
       "dtype: int64}])),\n",
       "                (&#x27;decisiontreeclassifier&#x27;,\n",
       "                 DecisionTreeClassifier(max_depth=6, random_state=42))])</pre></div></div></div><div class=\"sk-serial\"><div class=\"sk-item\"><div class=\"sk-estimator sk-toggleable\"><input class=\"sk-toggleable__control sk-hidden--visually\" id=\"sk-estimator-id-5\" type=\"checkbox\" ><label for=\"sk-estimator-id-5\" class=\"sk-toggleable__label sk-toggleable__label-arrow\">OrdinalEncoder</label><div class=\"sk-toggleable__content\"><pre>OrdinalEncoder(cols=[&#x27;time&#x27;, &#x27;magType&#x27;, &#x27;type&#x27;],\n",
       "               mapping=[{&#x27;col&#x27;: &#x27;time&#x27;, &#x27;data_type&#x27;: dtype(&#x27;O&#x27;),\n",
       "                         &#x27;mapping&#x27;: 2024-04-09T01:33:12.926Z      1\n",
       "2024-04-08T18:02:37.030Z      2\n",
       "2024-04-03T01:53:57.440Z      3\n",
       "2024-04-06T13:17:52.876Z      4\n",
       "2024-04-03T21:56:11.907Z      5\n",
       "                           ... \n",
       "2024-04-03T01:07:17.114Z    129\n",
       "2024-04-03T01:39:46.326Z    130\n",
       "2024-04-06T06:02:19.022Z    131\n",
       "2024-04-17T09:17:10.725Z    132\n",
       "NaN                          -2\n",
       "Length: 133, dtype: int64},\n",
       "                        {&#x27;col&#x27;: &#x27;magType&#x27;, &#x27;data_type&#x27;: dtype(&#x27;O&#x27;),\n",
       "                         &#x27;mapping&#x27;: mb     1\n",
       "mwr    2\n",
       "mww    3\n",
       "NaN   -2\n",
       "dtype: int64},\n",
       "                        {&#x27;col&#x27;: &#x27;type&#x27;, &#x27;data_type&#x27;: dtype(&#x27;O&#x27;),\n",
       "                         &#x27;mapping&#x27;: earthquake    1\n",
       "NaN          -2\n",
       "dtype: int64}])</pre></div></div></div><div class=\"sk-item\"><div class=\"sk-estimator sk-toggleable\"><input class=\"sk-toggleable__control sk-hidden--visually\" id=\"sk-estimator-id-6\" type=\"checkbox\" ><label for=\"sk-estimator-id-6\" class=\"sk-toggleable__label sk-toggleable__label-arrow\">DecisionTreeClassifier</label><div class=\"sk-toggleable__content\"><pre>DecisionTreeClassifier(max_depth=6, random_state=42)</pre></div></div></div></div></div></div></div>"
      ],
      "text/plain": [
       "Pipeline(steps=[('ordinalencoder',\n",
       "                 OrdinalEncoder(cols=['time', 'magType', 'type'],\n",
       "                                mapping=[{'col': 'time',\n",
       "                                          'data_type': dtype('O'),\n",
       "                                          'mapping': 2024-04-09T01:33:12.926Z      1\n",
       "2024-04-08T18:02:37.030Z      2\n",
       "2024-04-03T01:53:57.440Z      3\n",
       "2024-04-06T13:17:52.876Z      4\n",
       "2024-04-03T21:56:11.907Z      5\n",
       "                           ... \n",
       "2024-04-03T01:07:17.114Z    129\n",
       "2024-04-03T01:39:46.326Z    130\n",
       "2024-04-06T06:02:19.022Z    131\n",
       "2024-04-17T09:17:10.725Z    132\n",
       "NaN                          -2\n",
       "Length: 133, dtype: int64},\n",
       "                                         {'col': 'magType',\n",
       "                                          'data_type': dtype('O'),\n",
       "                                          'mapping': mb     1\n",
       "mwr    2\n",
       "mww    3\n",
       "NaN   -2\n",
       "dtype: int64},\n",
       "                                         {'col': 'type',\n",
       "                                          'data_type': dtype('O'),\n",
       "                                          'mapping': earthquake    1\n",
       "NaN          -2\n",
       "dtype: int64}])),\n",
       "                ('decisiontreeclassifier',\n",
       "                 DecisionTreeClassifier(max_depth=6, random_state=42))])"
      ]
     },
     "execution_count": 31,
     "metadata": {},
     "output_type": "execute_result"
    }
   ],
   "source": [
    "model = make_pipeline(\n",
    "    OrdinalEncoder(), DecisionTreeClassifier(max_depth=6,random_state=42)\n",
    ")\n",
    "# Fit model to training data\n",
    "model.fit(X_train,y_train)"
   ]
  },
  {
   "cell_type": "code",
   "execution_count": 32,
   "id": "5f7248e4",
   "metadata": {
    "execution": {
     "iopub.execute_input": "2024-06-14T11:05:57.509616Z",
     "iopub.status.busy": "2024-06-14T11:05:57.509141Z",
     "iopub.status.idle": "2024-06-14T11:05:57.534224Z",
     "shell.execute_reply": "2024-06-14T11:05:57.532945Z"
    },
    "papermill": {
     "duration": 0.051952,
     "end_time": "2024-06-14T11:05:57.537022",
     "exception": false,
     "start_time": "2024-06-14T11:05:57.485070",
     "status": "completed"
    },
    "tags": []
   },
   "outputs": [
    {
     "name": "stdout",
     "output_type": "stream",
     "text": [
      "Training Accuracy: 1.0\n",
      "Validation Accuracy: 1.0\n"
     ]
    }
   ],
   "source": [
    "acc_train = accuracy_score(y_train, model.predict(X_train))\n",
    "acc_val = model.score(X_val, y_val)\n",
    "\n",
    "print(\"Training Accuracy:\", round(acc_train, 2))\n",
    "print(\"Validation Accuracy:\", round(acc_val, 2))"
   ]
  },
  {
   "cell_type": "code",
   "execution_count": 33,
   "id": "2970ed35",
   "metadata": {
    "execution": {
     "iopub.execute_input": "2024-06-14T11:05:57.584511Z",
     "iopub.status.busy": "2024-06-14T11:05:57.584099Z",
     "iopub.status.idle": "2024-06-14T11:05:57.591091Z",
     "shell.execute_reply": "2024-06-14T11:05:57.589839Z"
    },
    "papermill": {
     "duration": 0.034428,
     "end_time": "2024-06-14T11:05:57.593821",
     "exception": false,
     "start_time": "2024-06-14T11:05:57.559393",
     "status": "completed"
    },
    "tags": []
   },
   "outputs": [
    {
     "name": "stdout",
     "output_type": "stream",
     "text": [
      "Tree Depth: 1\n"
     ]
    }
   ],
   "source": [
    "tree_depth = model.named_steps[\"decisiontreeclassifier\"].get_depth()\n",
    "print(\"Tree Depth:\", tree_depth)"
   ]
  },
  {
   "cell_type": "code",
   "execution_count": 34,
   "id": "9f732103",
   "metadata": {
    "execution": {
     "iopub.execute_input": "2024-06-14T11:05:57.641360Z",
     "iopub.status.busy": "2024-06-14T11:05:57.640940Z",
     "iopub.status.idle": "2024-06-14T11:05:57.646199Z",
     "shell.execute_reply": "2024-06-14T11:05:57.644945Z"
    },
    "papermill": {
     "duration": 0.031858,
     "end_time": "2024-06-14T11:05:57.648712",
     "exception": false,
     "start_time": "2024-06-14T11:05:57.616854",
     "status": "completed"
    },
    "tags": []
   },
   "outputs": [],
   "source": [
    "depth_hyperparams = range(1,50,2)"
   ]
  },
  {
   "cell_type": "code",
   "execution_count": 35,
   "id": "04663573",
   "metadata": {
    "execution": {
     "iopub.execute_input": "2024-06-14T11:05:57.696486Z",
     "iopub.status.busy": "2024-06-14T11:05:57.696070Z",
     "iopub.status.idle": "2024-06-14T11:05:58.423226Z",
     "shell.execute_reply": "2024-06-14T11:05:58.421792Z"
    },
    "papermill": {
     "duration": 0.755241,
     "end_time": "2024-06-14T11:05:58.427198",
     "exception": false,
     "start_time": "2024-06-14T11:05:57.671957",
     "status": "completed"
    },
    "tags": []
   },
   "outputs": [
    {
     "name": "stdout",
     "output_type": "stream",
     "text": [
      "Training Accuracy Scores: [1.0, 1.0, 1.0]\n",
      "Validation Accuracy Scores: [1.0, 1.0, 1.0]\n"
     ]
    }
   ],
   "source": [
    "# Create empty lists for training and validation accuracy scores\n",
    "training_acc = []\n",
    "validation_acc = []\n",
    "\n",
    "for d in depth_hyperparams:\n",
    "    # Create model with `max_depth` of `d`\n",
    "    test_model = model = make_pipeline(\n",
    "    OrdinalEncoder(), \n",
    "    DecisionTreeClassifier(max_depth=d,random_state=42)\n",
    "    )\n",
    "    # Fit model to training data\n",
    "    test_model.fit(X_train, y_train)\n",
    "    # Calculate training accuracy score and append to `training_acc`\n",
    "    training_acc.append(test_model.score(X_train, y_train))\n",
    "    # Calculate validation accuracy score and append to `training_acc`\n",
    "    validation_acc.append(test_model.score(X_val, y_val))\n",
    "\n",
    "print(\"Training Accuracy Scores:\", training_acc[:3])\n",
    "print(\"Validation Accuracy Scores:\", validation_acc[:3])"
   ]
  },
  {
   "cell_type": "code",
   "execution_count": 36,
   "id": "947f1f46",
   "metadata": {
    "execution": {
     "iopub.execute_input": "2024-06-14T11:05:58.476130Z",
     "iopub.status.busy": "2024-06-14T11:05:58.475150Z",
     "iopub.status.idle": "2024-06-14T11:05:58.733904Z",
     "shell.execute_reply": "2024-06-14T11:05:58.732550Z"
    },
    "papermill": {
     "duration": 0.286799,
     "end_time": "2024-06-14T11:05:58.736836",
     "exception": false,
     "start_time": "2024-06-14T11:05:58.450037",
     "status": "completed"
    },
    "tags": []
   },
   "outputs": [
    {
     "data": {
      "image/png": "[encoded data removed]",
      "text/plain": [
       "<Figure size 640x480 with 1 Axes>"
      ]
     },
     "metadata": {},
     "output_type": "display_data"
    }
   ],
   "source": [
    "# Plot `depth_hyperparams`, `training_acc`\n",
    "plt.plot(depth_hyperparams, training_acc,label=\"training\")\n",
    "plt.plot(depth_hyperparams, validation_acc,label=\"validation\");"
   ]
  },
  {
   "cell_type": "code",
   "execution_count": 37,
   "id": "fe67a534",
   "metadata": {
    "execution": {
     "iopub.execute_input": "2024-06-14T11:05:58.784893Z",
     "iopub.status.busy": "2024-06-14T11:05:58.784427Z",
     "iopub.status.idle": "2024-06-14T11:05:58.799959Z",
     "shell.execute_reply": "2024-06-14T11:05:58.798543Z"
    },
    "papermill": {
     "duration": 0.042467,
     "end_time": "2024-06-14T11:05:58.802414",
     "exception": false,
     "start_time": "2024-06-14T11:05:58.759947",
     "status": "completed"
    },
    "tags": []
   },
   "outputs": [
    {
     "name": "stdout",
     "output_type": "stream",
     "text": [
      "Test Accuracy: 1.0\n"
     ]
    }
   ],
   "source": [
    "test_acc = model.score(X_test,y_test)\n",
    "print(\"Test Accuracy:\", round(test_acc, 2))"
   ]
  },
  {
   "cell_type": "code",
   "execution_count": 38,
   "id": "79e41fa9",
   "metadata": {
    "execution": {
     "iopub.execute_input": "2024-06-14T11:05:58.850866Z",
     "iopub.status.busy": "2024-06-14T11:05:58.850447Z",
     "iopub.status.idle": "2024-06-14T11:05:58.858424Z",
     "shell.execute_reply": "2024-06-14T11:05:58.857182Z"
    },
    "papermill": {
     "duration": 0.035416,
     "end_time": "2024-06-14T11:05:58.861042",
     "exception": false,
     "start_time": "2024-06-14T11:05:58.825626",
     "status": "completed"
    },
    "tags": []
   },
   "outputs": [
    {
     "data": {
      "text/plain": [
       "['time',\n",
       " 'latitude',\n",
       " 'longitude',\n",
       " 'depth',\n",
       " 'mag',\n",
       " 'magType',\n",
       " 'dmin',\n",
       " 'type',\n",
       " 'horizontalError',\n",
       " 'depthError',\n",
       " 'magError']"
      ]
     },
     "execution_count": 38,
     "metadata": {},
     "output_type": "execute_result"
    }
   ],
   "source": [
    "X_train.columns.to_list()"
   ]
  },
  {
   "cell_type": "code",
   "execution_count": 39,
   "id": "b6c2a3d8",
   "metadata": {
    "execution": {
     "iopub.execute_input": "2024-06-14T11:05:58.910492Z",
     "iopub.status.busy": "2024-06-14T11:05:58.910068Z",
     "iopub.status.idle": "2024-06-14T11:05:59.306585Z",
     "shell.execute_reply": "2024-06-14T11:05:59.305346Z"
    },
    "papermill": {
     "duration": 0.424341,
     "end_time": "2024-06-14T11:05:59.309183",
     "exception": false,
     "start_time": "2024-06-14T11:05:58.884842",
     "status": "completed"
    },
    "tags": []
   },
   "outputs": [
    {
     "data": {
      "image/png": "[encoded data removed]",
      "text/plain": [
       "<Figure size 2500x1200 with 1 Axes>"
      ]
     },
     "metadata": {},
     "output_type": "display_data"
    }
   ],
   "source": [
    "# Create larger figure\n",
    "fig, ax = plt.subplots(figsize=(25, 12))\n",
    "# Plot tree\n",
    "plot_tree(\n",
    "    decision_tree=model.named_steps[\"decisiontreeclassifier\"],\n",
    "    feature_names=X_train.columns,\n",
    "    filled=True,  # Color leaf with class\n",
    "    rounded=True,  # Round leaf edges\n",
    "    proportion=True,  # Display proportion of classes in leaf\n",
    "    max_depth=3,  # Only display first 3 levels\n",
    "    fontsize=12,  # Enlarge font\n",
    "    ax=ax,  # Place in figure axis\n",
    ");"
   ]
  },
  {
   "cell_type": "code",
   "execution_count": 40,
   "id": "1d3ab15f",
   "metadata": {
    "execution": {
     "iopub.execute_input": "2024-06-14T11:05:59.363681Z",
     "iopub.status.busy": "2024-06-14T11:05:59.363212Z",
     "iopub.status.idle": "2024-06-14T11:05:59.370567Z",
     "shell.execute_reply": "2024-06-14T11:05:59.369300Z"
    },
    "papermill": {
     "duration": 0.037468,
     "end_time": "2024-06-14T11:05:59.373561",
     "exception": false,
     "start_time": "2024-06-14T11:05:59.336093",
     "status": "completed"
    },
    "tags": []
   },
   "outputs": [
    {
     "name": "stdout",
     "output_type": "stream",
     "text": [
      "Features: Index(['time', 'latitude', 'longitude'], dtype='object')\n",
      "Importances: [0. 0. 0.]\n"
     ]
    }
   ],
   "source": [
    "features = X_train.columns\n",
    "importances = model.named_steps[\"decisiontreeclassifier\"].feature_importances_\n",
    "\n",
    "print(\"Features:\", features[:3])\n",
    "print(\"Importances:\", importances[:3])\n"
   ]
  },
  {
   "cell_type": "code",
   "execution_count": 41,
   "id": "ac7cdc0e",
   "metadata": {
    "execution": {
     "iopub.execute_input": "2024-06-14T11:05:59.425385Z",
     "iopub.status.busy": "2024-06-14T11:05:59.424965Z",
     "iopub.status.idle": "2024-06-14T11:05:59.435153Z",
     "shell.execute_reply": "2024-06-14T11:05:59.433776Z"
    },
    "papermill": {
     "duration": 0.038988,
     "end_time": "2024-06-14T11:05:59.437812",
     "exception": false,
     "start_time": "2024-06-14T11:05:59.398824",
     "status": "completed"
    },
    "tags": []
   },
   "outputs": [
    {
     "data": {
      "text/plain": [
       "time         0.0\n",
       "latitude     0.0\n",
       "longitude    0.0\n",
       "depth        0.0\n",
       "magType      0.0\n",
       "dtype: float64"
      ]
     },
     "execution_count": 41,
     "metadata": {},
     "output_type": "execute_result"
    }
   ],
   "source": [
    "feat_imp = pd.Series(importances,index = features).sort_values()\n",
    "feat_imp.head()"
   ]
  },
  {
   "cell_type": "code",
   "execution_count": 42,
   "id": "ceb847d1",
   "metadata": {
    "execution": {
     "iopub.execute_input": "2024-06-14T11:05:59.490558Z",
     "iopub.status.busy": "2024-06-14T11:05:59.490145Z",
     "iopub.status.idle": "2024-06-14T11:05:59.800537Z",
     "shell.execute_reply": "2024-06-14T11:05:59.799412Z"
    },
    "papermill": {
     "duration": 0.339305,
     "end_time": "2024-06-14T11:05:59.803230",
     "exception": false,
     "start_time": "2024-06-14T11:05:59.463925",
     "status": "completed"
    },
    "tags": []
   },
   "outputs": [
    {
     "data": {
      "text/plain": [
       "Text(0, 0.5, 'Features')"
      ]
     },
     "execution_count": 42,
     "metadata": {},
     "output_type": "execute_result"
    },
    {
     "data": {
      "image/png": "[encoded data removed]",
      "text/plain": [
       "<Figure size 640x480 with 1 Axes>"
      ]
     },
     "metadata": {},
     "output_type": "display_data"
    }
   ],
   "source": [
    "# Create horizontal bar chart\n",
    "feat_imp.plot(kind= \"barh\")\n",
    "plt.xlabel(\"Gini importances\")\n",
    "plt.ylabel(\"Features\")\n"
   ]
  },
  {
   "cell_type": "code",
   "execution_count": null,
   "id": "1a4ea0b8",
   "metadata": {
    "papermill": {
     "duration": 0.025482,
     "end_time": "2024-06-14T11:05:59.854530",
     "exception": false,
     "start_time": "2024-06-14T11:05:59.829048",
     "status": "completed"
    },
    "tags": []
   },
   "outputs": [],
   "source": []
  }
 ],
 "metadata": {
  "kaggle": {
   "accelerator": "none",
   "dataSources": [
    {
     "datasetId": 1521660,
     "sourceId": 8595716,
     "sourceType": "datasetVersion"
    }
   ],
   "dockerImageVersionId": 30715,
   "isGpuEnabled": false,
   "isInternetEnabled": false,
   "language": "python",
   "sourceType": "notebook"
  },
  "kernelspec": {
   "display_name": "Python 3",
   "language": "python",
   "name": "python3"
  },
  "language_info": {
   "codemirror_mode": {
    "name": "ipython",
    "version": 3
   },
   "file_extension": ".py",
   "mimetype": "text/x-python",
   "name": "python",
   "nbconvert_exporter": "python",
   "pygments_lexer": "ipython3",
   "version": "3.10.13"
  },
  "papermill": {
   "default_parameters": {},
   "duration": 15.000138,
   "end_time": "2024-06-14T11:06:00.602599",
   "environment_variables": {},
   "exception": null,
   "input_path": "__notebook__.ipynb",
   "output_path": "__notebook__.ipynb",
   "parameters": {},
   "start_time": "2024-06-14T11:05:45.602461",
   "version": "2.5.0"
  }
 },
 "nbformat": 4,
 "nbformat_minor": 5
}
